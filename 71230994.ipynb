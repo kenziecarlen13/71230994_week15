{
 "cells": [
  {
   "cell_type": "code",
   "execution_count": 2,
   "metadata": {},
   "outputs": [
    {
     "name": "stdout",
     "output_type": "stream",
     "text": [
      "1945-08-17 17-08-1945 Selisih hari: 28756\n",
      "1785-11-11 11-11-1785 Selisih hari: 87072\n",
      "1783-06-08 08-06-1783 Selisih hari: 87955\n",
      "1889-05-02 02-05-1889 Selisih hari: 49301\n",
      "2005-06-13 13-06-2005 Selisih hari: 6920\n"
     ]
    }
   ],
   "source": [
    "#1\n",
    "import re\n",
    "\n",
    "teks = \"\"\" Pada tanggal 1945-08-17 Indonesia merdeka. Indonesia memiliki beberapa pahlawan\n",
    "nasional, seperti Pangeran Diponegoro (TL: 1785-11-11), Pattimura (TL: 1783-06-08) dan Ki\n",
    "Hajar Dewantara (1889-05-02). Dilain sisi Putu Gde Kenzie Carlen mataram lahir di Yogyakarta \n",
    "pada tanggal 2005-06-13 yang sekarang ini sedang menempuh pendidikan di UKDW.\n",
    "\"\"\"\n",
    "\n",
    "tanggal_temu = re.findall(r'\\d{4}-\\d{2}-\\d{2}', teks)\n",
    "#acuan hari, bulan, dan tanggal berdasarkan pengerjaan, yaitu 28 mei 2024\n",
    "hari_acuan = 28\n",
    "bulan_acuan = 5\n",
    "tahun_acuan = 2024\n",
    "tanggal_referensi = (tahun_acuan, bulan_acuan, hari_acuan)\n",
    "\n",
    "#untuk menghitung selisih hari 😒 (parah sih ga boleh pake import datetimes)\n",
    "def hitung_selisih_tanggal(tanggal, tanggal_referensi):\n",
    "    tahun, bulan, hari = tanggal.split('-')\n",
    "    tahun_ref, bulan_ref, hari_ref = tanggal_referensi\n",
    "    selisih_tahun = (tahun_ref - int(tahun)) * 365\n",
    "    selisih_bulan = (bulan_ref - int(bulan)) * 30\n",
    "    selisih_hari = (hari_ref - int(hari)) * 1 #hehehe\n",
    "    selisih_total = selisih_tahun + selisih_bulan + selisih_hari\n",
    "    return selisih_total\n",
    "\n",
    "for tanggal in tanggal_temu:\n",
    "    selisih = hitung_selisih_tanggal(tanggal, tanggal_referensi)\n",
    "    #untuk mengganti format tanggal yang awalnya YYYY-MM-DD menjadi DD-MM-YYYY\n",
    "    format_tanggal = \"-\".join(tanggal.split('-')[::-1])\n",
    "    print(f\"{tanggal} {format_tanggal} Selisih hari: {selisih}\")\n"
   ]
  },
  {
   "cell_type": "code",
   "execution_count": 3,
   "metadata": {},
   "outputs": [
    {
     "name": "stdout",
     "output_type": "stream",
     "text": [
      "anton@mail.com username: anton, password: 3OFHD8sZ\n",
      "budi@gmail.co.id username: budi, password: 9fZLX6JG\n",
      "slamet@getnada.com username: slamet, password: vtnWtj41\n",
      "matahari@tokopedia.com username: matahari, password: lK0JeyB2\n",
      "gagalmoveon@yahoo.com username: gagalmoveon, password: GIJCdiwd\n"
     ]
    }
   ],
   "source": [
    "#2\n",
    "import re\n",
    "import random\n",
    "import string\n",
    "\n",
    "emails = [\n",
    "    \"anton@mail.com dimiliki oleh antonius\",\n",
    "    \"budi@gmail.co.id dimiliki oleh budi anwari\",\n",
    "    \"slamet@getnada.com dimiliki oleh slamet slumut\",\n",
    "    \"matahari@tokopedia.com dimiliki oleh toko matahari\",\n",
    "    \"gagalmoveon@yahoo.com dimiliki oleh kenzie\"\n",
    "]\n",
    "for email_info in emails:\n",
    "    email = email_info.split()[0]\n",
    "    username = re.findall(r'(\\S+)[@]', email)[0]\n",
    "    characters = string.ascii_letters + string.digits\n",
    "    password =  ''.join(random.choice(characters) for _ in range(8))\n",
    "    print(f\"{email} username: {username}, password: {password}\")\n",
    "\n"
   ]
  }
 ],
 "metadata": {
  "kernelspec": {
   "display_name": "base",
   "language": "python",
   "name": "python3"
  },
  "language_info": {
   "codemirror_mode": {
    "name": "ipython",
    "version": 3
   },
   "file_extension": ".py",
   "mimetype": "text/x-python",
   "name": "python",
   "nbconvert_exporter": "python",
   "pygments_lexer": "ipython3",
   "version": "3.11.5"
  }
 },
 "nbformat": 4,
 "nbformat_minor": 2
}
